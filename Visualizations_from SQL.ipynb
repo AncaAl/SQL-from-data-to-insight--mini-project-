{
 "cells": [
  {
   "cell_type": "code",
   "execution_count": 52,
   "id": "a7172791",
   "metadata": {},
   "outputs": [],
   "source": [
    "import pandas as pd\n",
    "import seaborn as sns\n",
    "import matplotlib.pyplot as plt"
   ]
  },
  {
   "cell_type": "code",
   "execution_count": 53,
   "id": "2b5e7e1a",
   "metadata": {},
   "outputs": [],
   "source": [
    "csv_1 = \"Views/amount_products_per_gender.csv\""
   ]
  },
  {
   "cell_type": "code",
   "execution_count": 54,
   "id": "04c63b6f",
   "metadata": {},
   "outputs": [],
   "source": [
    "df_1 = pd.read_csv(csv_1)"
   ]
  },
  {
   "cell_type": "code",
   "execution_count": 55,
   "id": "57cc3b01",
   "metadata": {
    "scrolled": false
   },
   "outputs": [
    {
     "data": {
      "text/html": [
       "<div>\n",
       "<style scoped>\n",
       "    .dataframe tbody tr th:only-of-type {\n",
       "        vertical-align: middle;\n",
       "    }\n",
       "\n",
       "    .dataframe tbody tr th {\n",
       "        vertical-align: top;\n",
       "    }\n",
       "\n",
       "    .dataframe thead th {\n",
       "        text-align: right;\n",
       "    }\n",
       "</style>\n",
       "<table border=\"1\" class=\"dataframe\">\n",
       "  <thead>\n",
       "    <tr style=\"text-align: right;\">\n",
       "      <th></th>\n",
       "      <th>product_line</th>\n",
       "      <th>male</th>\n",
       "      <th>female</th>\n",
       "    </tr>\n",
       "  </thead>\n",
       "  <tbody>\n",
       "    <tr>\n",
       "      <th>0</th>\n",
       "      <td>Food and beverages</td>\n",
       "      <td>22,974</td>\n",
       "      <td>33,171</td>\n",
       "    </tr>\n",
       "    <tr>\n",
       "      <th>1</th>\n",
       "      <td>Health and beauty</td>\n",
       "      <td>30,633</td>\n",
       "      <td>18,561</td>\n",
       "    </tr>\n",
       "    <tr>\n",
       "      <th>2</th>\n",
       "      <td>Sports and travel</td>\n",
       "      <td>26,548</td>\n",
       "      <td>28,575</td>\n",
       "    </tr>\n",
       "    <tr>\n",
       "      <th>3</th>\n",
       "      <td>Fashion accessories</td>\n",
       "      <td>23,868</td>\n",
       "      <td>30,437</td>\n",
       "    </tr>\n",
       "    <tr>\n",
       "      <th>4</th>\n",
       "      <td>Home and lifestyle</td>\n",
       "      <td>23,825</td>\n",
       "      <td>30,037</td>\n",
       "    </tr>\n",
       "    <tr>\n",
       "      <th>5</th>\n",
       "      <td>Electronic accessories</td>\n",
       "      <td>27,236</td>\n",
       "      <td>27,102</td>\n",
       "    </tr>\n",
       "  </tbody>\n",
       "</table>\n",
       "</div>"
      ],
      "text/plain": [
       "             product_line    male  female\n",
       "0      Food and beverages  22,974  33,171\n",
       "1       Health and beauty  30,633  18,561\n",
       "2       Sports and travel  26,548  28,575\n",
       "3     Fashion accessories  23,868  30,437\n",
       "4      Home and lifestyle  23,825  30,037\n",
       "5  Electronic accessories  27,236  27,102"
      ]
     },
     "execution_count": 55,
     "metadata": {},
     "output_type": "execute_result"
    }
   ],
   "source": [
    "df_1"
   ]
  },
  {
   "cell_type": "code",
   "execution_count": null,
   "id": "dae86458",
   "metadata": {},
   "outputs": [],
   "source": []
  },
  {
   "cell_type": "code",
   "execution_count": 56,
   "id": "5edda4c1",
   "metadata": {},
   "outputs": [],
   "source": [
    "csv_2 = \"Views/amount_products_per_time.csv\""
   ]
  },
  {
   "cell_type": "code",
   "execution_count": 57,
   "id": "30576a0e",
   "metadata": {},
   "outputs": [],
   "source": [
    "df_2 = pd.read_csv(csv_2)"
   ]
  },
  {
   "cell_type": "code",
   "execution_count": 58,
   "id": "25a0a109",
   "metadata": {},
   "outputs": [
    {
     "data": {
      "text/html": [
       "<div>\n",
       "<style scoped>\n",
       "    .dataframe tbody tr th:only-of-type {\n",
       "        vertical-align: middle;\n",
       "    }\n",
       "\n",
       "    .dataframe tbody tr th {\n",
       "        vertical-align: top;\n",
       "    }\n",
       "\n",
       "    .dataframe thead th {\n",
       "        text-align: right;\n",
       "    }\n",
       "</style>\n",
       "<table border=\"1\" class=\"dataframe\">\n",
       "  <thead>\n",
       "    <tr style=\"text-align: right;\">\n",
       "      <th></th>\n",
       "      <th>range_time</th>\n",
       "      <th>food_beverages</th>\n",
       "      <th>health_beauty</th>\n",
       "      <th>sports_travel</th>\n",
       "      <th>fashion_accessories</th>\n",
       "      <th>home_lifestyle</th>\n",
       "      <th>electronic_accesories</th>\n",
       "    </tr>\n",
       "  </thead>\n",
       "  <tbody>\n",
       "    <tr>\n",
       "      <th>0</th>\n",
       "      <td>01_morning</td>\n",
       "      <td>11,261</td>\n",
       "      <td>8,324</td>\n",
       "      <td>9,187</td>\n",
       "      <td>10,471</td>\n",
       "      <td>12,388</td>\n",
       "      <td>10,168</td>\n",
       "    </tr>\n",
       "    <tr>\n",
       "      <th>1</th>\n",
       "      <td>02_midday</td>\n",
       "      <td>8,059</td>\n",
       "      <td>10,224</td>\n",
       "      <td>12,262</td>\n",
       "      <td>13,060</td>\n",
       "      <td>9,864</td>\n",
       "      <td>7,320</td>\n",
       "    </tr>\n",
       "    <tr>\n",
       "      <th>2</th>\n",
       "      <td>03_early_afternoon</td>\n",
       "      <td>11,681</td>\n",
       "      <td>10,875</td>\n",
       "      <td>10,756</td>\n",
       "      <td>8,202</td>\n",
       "      <td>9,043</td>\n",
       "      <td>11,450</td>\n",
       "    </tr>\n",
       "    <tr>\n",
       "      <th>3</th>\n",
       "      <td>04_late_afternoon</td>\n",
       "      <td>5,984</td>\n",
       "      <td>6,697</td>\n",
       "      <td>9,003</td>\n",
       "      <td>9,664</td>\n",
       "      <td>10,745</td>\n",
       "      <td>7,578</td>\n",
       "    </tr>\n",
       "    <tr>\n",
       "      <th>4</th>\n",
       "      <td>05_evening</td>\n",
       "      <td>19,160</td>\n",
       "      <td>13,074</td>\n",
       "      <td>13,913</td>\n",
       "      <td>12,909</td>\n",
       "      <td>11,822</td>\n",
       "      <td>17,821</td>\n",
       "    </tr>\n",
       "  </tbody>\n",
       "</table>\n",
       "</div>"
      ],
      "text/plain": [
       "           range_time food_beverages health_beauty sports_travel  \\\n",
       "0          01_morning         11,261         8,324         9,187   \n",
       "1           02_midday          8,059        10,224        12,262   \n",
       "2  03_early_afternoon         11,681        10,875        10,756   \n",
       "3   04_late_afternoon          5,984         6,697         9,003   \n",
       "4          05_evening         19,160        13,074        13,913   \n",
       "\n",
       "  fashion_accessories home_lifestyle electronic_accesories  \n",
       "0              10,471         12,388                10,168  \n",
       "1              13,060          9,864                 7,320  \n",
       "2               8,202          9,043                11,450  \n",
       "3               9,664         10,745                 7,578  \n",
       "4              12,909         11,822                17,821  "
      ]
     },
     "execution_count": 58,
     "metadata": {},
     "output_type": "execute_result"
    }
   ],
   "source": [
    "df_2"
   ]
  },
  {
   "cell_type": "code",
   "execution_count": 59,
   "id": "e29dfbce",
   "metadata": {
    "scrolled": true
   },
   "outputs": [],
   "source": [
    "# df_2.set_index(\"range_time\")"
   ]
  },
  {
   "cell_type": "code",
   "execution_count": null,
   "id": "906702e4",
   "metadata": {},
   "outputs": [],
   "source": []
  },
  {
   "cell_type": "code",
   "execution_count": null,
   "id": "4b12be90",
   "metadata": {},
   "outputs": [],
   "source": []
  },
  {
   "cell_type": "code",
   "execution_count": 60,
   "id": "1b4a6de6",
   "metadata": {},
   "outputs": [],
   "source": [
    "csv_3 = \"Views/amount_time_per_gender.csv\""
   ]
  },
  {
   "cell_type": "code",
   "execution_count": 61,
   "id": "fb32ec8f",
   "metadata": {},
   "outputs": [],
   "source": [
    "df_3 = pd.read_csv(csv_3)"
   ]
  },
  {
   "cell_type": "code",
   "execution_count": 62,
   "id": "e91e7e0f",
   "metadata": {
    "scrolled": true
   },
   "outputs": [
    {
     "data": {
      "text/html": [
       "<div>\n",
       "<style scoped>\n",
       "    .dataframe tbody tr th:only-of-type {\n",
       "        vertical-align: middle;\n",
       "    }\n",
       "\n",
       "    .dataframe tbody tr th {\n",
       "        vertical-align: top;\n",
       "    }\n",
       "\n",
       "    .dataframe thead th {\n",
       "        text-align: right;\n",
       "    }\n",
       "</style>\n",
       "<table border=\"1\" class=\"dataframe\">\n",
       "  <thead>\n",
       "    <tr style=\"text-align: right;\">\n",
       "      <th></th>\n",
       "      <th>range_time</th>\n",
       "      <th>male</th>\n",
       "      <th>female</th>\n",
       "    </tr>\n",
       "  </thead>\n",
       "  <tbody>\n",
       "    <tr>\n",
       "      <th>0</th>\n",
       "      <td>01_morning</td>\n",
       "      <td>27,643</td>\n",
       "      <td>34,156</td>\n",
       "    </tr>\n",
       "    <tr>\n",
       "      <th>1</th>\n",
       "      <td>02_midday</td>\n",
       "      <td>24,105</td>\n",
       "      <td>36,684</td>\n",
       "    </tr>\n",
       "    <tr>\n",
       "      <th>2</th>\n",
       "      <td>03_early_afternoon</td>\n",
       "      <td>33,738</td>\n",
       "      <td>28,270</td>\n",
       "    </tr>\n",
       "    <tr>\n",
       "      <th>3</th>\n",
       "      <td>04_late_afternoon</td>\n",
       "      <td>23,328</td>\n",
       "      <td>26,343</td>\n",
       "    </tr>\n",
       "    <tr>\n",
       "      <th>4</th>\n",
       "      <td>05_evening</td>\n",
       "      <td>46,269</td>\n",
       "      <td>42,430</td>\n",
       "    </tr>\n",
       "  </tbody>\n",
       "</table>\n",
       "</div>"
      ],
      "text/plain": [
       "           range_time    male  female\n",
       "0          01_morning  27,643  34,156\n",
       "1           02_midday  24,105  36,684\n",
       "2  03_early_afternoon  33,738  28,270\n",
       "3   04_late_afternoon  23,328  26,343\n",
       "4          05_evening  46,269  42,430"
      ]
     },
     "execution_count": 62,
     "metadata": {},
     "output_type": "execute_result"
    }
   ],
   "source": [
    "df_3"
   ]
  },
  {
   "cell_type": "code",
   "execution_count": null,
   "id": "e6756e9f",
   "metadata": {},
   "outputs": [],
   "source": []
  },
  {
   "cell_type": "code",
   "execution_count": null,
   "id": "b702ba33",
   "metadata": {},
   "outputs": [],
   "source": []
  },
  {
   "cell_type": "code",
   "execution_count": null,
   "id": "b10412ca",
   "metadata": {},
   "outputs": [],
   "source": []
  },
  {
   "cell_type": "code",
   "execution_count": 67,
   "id": "82d546c3",
   "metadata": {},
   "outputs": [],
   "source": [
    "csv_4 = \"Views/qty_time_per_gender.csv\""
   ]
  },
  {
   "cell_type": "code",
   "execution_count": 68,
   "id": "4b9fba36",
   "metadata": {},
   "outputs": [],
   "source": [
    "df_4 = pd.read_csv(csv_4)"
   ]
  },
  {
   "cell_type": "code",
   "execution_count": 69,
   "id": "eaf0be16",
   "metadata": {
    "scrolled": true
   },
   "outputs": [
    {
     "data": {
      "text/html": [
       "<div>\n",
       "<style scoped>\n",
       "    .dataframe tbody tr th:only-of-type {\n",
       "        vertical-align: middle;\n",
       "    }\n",
       "\n",
       "    .dataframe tbody tr th {\n",
       "        vertical-align: top;\n",
       "    }\n",
       "\n",
       "    .dataframe thead th {\n",
       "        text-align: right;\n",
       "    }\n",
       "</style>\n",
       "<table border=\"1\" class=\"dataframe\">\n",
       "  <thead>\n",
       "    <tr style=\"text-align: right;\">\n",
       "      <th></th>\n",
       "      <th>range_time</th>\n",
       "      <th>male</th>\n",
       "      <th>female</th>\n",
       "    </tr>\n",
       "  </thead>\n",
       "  <tbody>\n",
       "    <tr>\n",
       "      <th>0</th>\n",
       "      <td>01_morning</td>\n",
       "      <td>82</td>\n",
       "      <td>109</td>\n",
       "    </tr>\n",
       "    <tr>\n",
       "      <th>1</th>\n",
       "      <td>02_midday</td>\n",
       "      <td>85</td>\n",
       "      <td>107</td>\n",
       "    </tr>\n",
       "    <tr>\n",
       "      <th>2</th>\n",
       "      <td>03_early_afternoon</td>\n",
       "      <td>104</td>\n",
       "      <td>81</td>\n",
       "    </tr>\n",
       "    <tr>\n",
       "      <th>3</th>\n",
       "      <td>04_late_afternoon</td>\n",
       "      <td>77</td>\n",
       "      <td>74</td>\n",
       "    </tr>\n",
       "    <tr>\n",
       "      <th>4</th>\n",
       "      <td>05_evening</td>\n",
       "      <td>151</td>\n",
       "      <td>130</td>\n",
       "    </tr>\n",
       "  </tbody>\n",
       "</table>\n",
       "</div>"
      ],
      "text/plain": [
       "           range_time  male  female\n",
       "0          01_morning    82     109\n",
       "1           02_midday    85     107\n",
       "2  03_early_afternoon   104      81\n",
       "3   04_late_afternoon    77      74\n",
       "4          05_evening   151     130"
      ]
     },
     "execution_count": 69,
     "metadata": {},
     "output_type": "execute_result"
    }
   ],
   "source": [
    "df_4"
   ]
  },
  {
   "cell_type": "code",
   "execution_count": null,
   "id": "859abe98",
   "metadata": {},
   "outputs": [],
   "source": []
  },
  {
   "cell_type": "code",
   "execution_count": null,
   "id": "135c6eb7",
   "metadata": {},
   "outputs": [],
   "source": []
  },
  {
   "cell_type": "code",
   "execution_count": null,
   "id": "e258514b",
   "metadata": {},
   "outputs": [],
   "source": []
  },
  {
   "cell_type": "code",
   "execution_count": null,
   "id": "37a088e4",
   "metadata": {},
   "outputs": [],
   "source": []
  }
 ],
 "metadata": {
  "kernelspec": {
   "display_name": "Python 3 (ipykernel)",
   "language": "python",
   "name": "python3"
  },
  "language_info": {
   "codemirror_mode": {
    "name": "ipython",
    "version": 3
   },
   "file_extension": ".py",
   "mimetype": "text/x-python",
   "name": "python",
   "nbconvert_exporter": "python",
   "pygments_lexer": "ipython3",
   "version": "3.11.7"
  }
 },
 "nbformat": 4,
 "nbformat_minor": 5
}
